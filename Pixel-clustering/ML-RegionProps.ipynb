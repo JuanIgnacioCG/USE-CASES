{
 "cells": [
  {
   "cell_type": "markdown",
   "metadata": {},
   "source": [
    "# TUTORIAL IMAGE PROCESSING FOR MATERIAL SCIENCE (II)"
   ]
  },
  {
   "cell_type": "markdown",
   "metadata": {},
   "source": [
    "## Import the libraries \n",
    "activating the libraries to be used in the following"
   ]
  },
  {
   "cell_type": "code",
   "execution_count": 34,
   "metadata": {},
   "outputs": [],
   "source": [
    "from PIL import Image      # Modulo basico de cargar imagenes\n",
    "import numpy as np         # Modulo arrays\n",
    "from pathlib import Path\n",
    "\n",
    "# import matplotlib.pyplot as plt  # You need matplotlib to visualize if not napari\n",
    "\n",
    "import pandas as pd\n",
    "import numpy as np\n",
    "import skimage\n",
    "import skimage.measure\n",
    "from os import listdir\n",
    "\n",
    "# For future tuto\n",
    "from sklearn.neighbors import NearestNeighbors\n",
    "from sklearn.cluster import DBSCAN\n",
    "\n",
    "# This is for napari in jupyter env.\n",
    "%gui qt5 \n",
    "import napari\n",
    "from napari.utils import nbscreenshot"
   ]
  },
  {
   "cell_type": "markdown",
   "metadata": {},
   "source": [
    "## 0.1 LOADING 2D IMAGES\n",
    "It is more handy to convert the grayscale images to a binary one in Imagej/Fiji."
   ]
  },
  {
   "cell_type": "code",
   "execution_count": 6,
   "metadata": {},
   "outputs": [
    {
     "data": {
      "text/plain": [
       "(1755, 1883)"
      ]
     },
     "execution_count": 6,
     "metadata": {},
     "output_type": "execute_result"
    }
   ],
   "source": [
    "## Declaring the paths to the folders of work\n",
    "folder_to_read = Path(r\"D:\\OneDrive - Universidad Politécnica de Madrid\\2_Tareas\\20201007_Iker_cluster\") \n",
    "folder_to_save = Path(r\"D:\\OneDrive - Universidad Politécnica de Madrid\\2_Tareas\\20201007_Iker_cluster\")\n",
    "\n",
    "## Name of the files\n",
    "name1 = 'Classification result-1.tif'\n",
    "# name2 = 'Classification result-2.tif'\n",
    "# name3 = 'Classification result-3.tif'\n",
    "# name4 = 'Classification result-4.tif'\n",
    "\n",
    "ruta_data1 = folder_to_read / name1\n",
    "# ruta_data2 = folder_to_read / name2\n",
    "# ruta_data3 = folder_to_read / name3\n",
    "# ruta_data4 = folder_to_read / name4\n",
    "\n",
    "## Assigning images to variables\n",
    "# Check the different steps\n",
    "'''\n",
    "First we are using  objects:ruta_data1,ruta_data2.. of type Path (realised of the upcase 'P') to point to the path of the file in our computer. This would make it work for any Operative System (linux, windows, mac)\n",
    "Second the Image class (again realised of the 'I') from the PIL library enables to read the image in the format we specify.\n",
    "Third, and last the objects created by the class Image are turned into another object of other type> numpy array. These objects behave as what we would expect of a math matrix.\n",
    "'''\n",
    "img1 = np.array(Image.open(str(ruta_data1), mode='r'))\n",
    "# img2 = np.array(Image.open(str(ruta_data2), mode='r'))\n",
    "# img3 = np.array(Image.open(str(ruta_data3), mode='r'))\n",
    "# img4 = np.array(Image.open(str(ruta_data4), mode='r'))\n",
    "\n",
    "img1.shape\n",
    "#carga direcciones al revés"
   ]
  },
  {
   "cell_type": "markdown",
   "metadata": {},
   "source": [
    "### Inspection of the images visually"
   ]
  },
  {
   "cell_type": "code",
   "execution_count": 23,
   "metadata": {},
   "outputs": [],
   "source": [
    "viewer = napari.view_image(img1)"
   ]
  },
  {
   "cell_type": "markdown",
   "metadata": {},
   "source": [
    "# More human analysis by machine learning"
   ]
  },
  {
   "cell_type": "markdown",
   "metadata": {},
   "source": [
    "## CLUSTERING BY DBSCAN"
   ]
  },
  {
   "cell_type": "markdown",
   "metadata": {},
   "source": [
    "## Data preparation"
   ]
  },
  {
   "cell_type": "markdown",
   "metadata": {},
   "source": [
    "### Obtaining coordenates x,y"
   ]
  },
  {
   "cell_type": "code",
   "execution_count": 8,
   "metadata": {},
   "outputs": [
    {
     "data": {
      "text/plain": [
       "((9486, 2),\n",
       " array([[  94, 1648],\n",
       "        [  95, 1647],\n",
       "        [  95, 1648],\n",
       "        [ 105, 1076],\n",
       "        [ 106, 1075]], dtype=int64))"
      ]
     },
     "execution_count": 8,
     "metadata": {},
     "output_type": "execute_result"
    }
   ],
   "source": [
    "a_coords = np.argwhere(img1>0)\n",
    "a_coords.shape, a_coords[:5]"
   ]
  },
  {
   "cell_type": "markdown",
   "metadata": {},
   "source": [
    "### Create dataframe to export it"
   ]
  },
  {
   "cell_type": "code",
   "execution_count": 9,
   "metadata": {},
   "outputs": [],
   "source": [
    "df_coords = pd.DataFrame(a_coords)\n",
    "df_coords.to_csv('easy_clustering.csv',index=False)"
   ]
  },
  {
   "cell_type": "code",
   "execution_count": 10,
   "metadata": {},
   "outputs": [
    {
     "data": {
      "text/plain": [
       "array([ 94,  95,  95, 105, 106], dtype=int64)"
      ]
     },
     "execution_count": 10,
     "metadata": {},
     "output_type": "execute_result"
    }
   ],
   "source": [
    "x = a_coords[:,0]\n",
    "y = a_coords[:,1]\n",
    "# z = a_coords[:,2]\n",
    "x[:5]"
   ]
  },
  {
   "cell_type": "markdown",
   "metadata": {},
   "source": [
    "### Computing distances with kneighbours"
   ]
  },
  {
   "cell_type": "code",
   "execution_count": 11,
   "metadata": {},
   "outputs": [],
   "source": [
    "neigh = NearestNeighbors(n_neighbors=50)\n",
    "nbrs = neigh.fit(a_coords)\n",
    "distances, indices = nbrs.kneighbors(a_coords)"
   ]
  },
  {
   "cell_type": "code",
   "execution_count": 12,
   "metadata": {},
   "outputs": [
    {
     "data": {
      "text/plain": [
       "array([[  94, 1648],\n",
       "       [  95, 1647],\n",
       "       [  95, 1648],\n",
       "       ...,\n",
       "       [1754, 1808],\n",
       "       [1754, 1809],\n",
       "       [1754, 1822]], dtype=int64)"
      ]
     },
     "execution_count": 12,
     "metadata": {},
     "output_type": "execute_result"
    }
   ],
   "source": [
    "a_coords"
   ]
  },
  {
   "cell_type": "code",
   "execution_count": 13,
   "metadata": {},
   "outputs": [],
   "source": [
    "neigh = NearestNeighbors(n_neighbors=150)\n",
    "nbrs = neigh.fit(a_coords)\n",
    "distances, indices = nbrs.kneighbors(a_coords)"
   ]
  },
  {
   "cell_type": "code",
   "execution_count": 14,
   "metadata": {
    "scrolled": true
   },
   "outputs": [
    {
     "data": {
      "text/plain": [
       "(array([[  0.        ,   1.        ,   1.41421356, ..., 336.6184784 ,\n",
       "         337.21506491, 337.55740253],\n",
       "        [  0.        ,   1.        ,   1.41421356, ..., 335.33565274,\n",
       "         335.93451743, 336.27518493],\n",
       "        [  0.        ,   1.        ,   1.        , ..., 335.67990705,\n",
       "         336.27518493, 336.6184784 ],\n",
       "        ...,\n",
       "        [  0.        ,   1.        ,   1.        , ..., 345.1376537 ,\n",
       "         348.54268031, 355.03943443],\n",
       "        [  0.        ,   1.        ,   2.23606798, ..., 354.17086272,\n",
       "         354.18921497, 354.30213096],\n",
       "        [  0.        ,   1.        ,   1.41421356, ..., 354.18921497,\n",
       "         354.30213096, 354.30213096]]),\n",
       " (9486, 150))"
      ]
     },
     "execution_count": 14,
     "metadata": {},
     "output_type": "execute_result"
    }
   ],
   "source": [
    "distances[:20], distances.shape"
   ]
  },
  {
   "cell_type": "markdown",
   "metadata": {},
   "source": [
    "### Optimum values parameters"
   ]
  },
  {
   "cell_type": "code",
   "execution_count": 17,
   "metadata": {},
   "outputs": [
    {
     "data": {
      "image/png": "[encoded data removed]",
      "text/plain": [
       "<Figure size 432x288 with 1 Axes>"
      ]
     },
     "metadata": {
      "needs_background": "light"
     },
     "output_type": "display_data"
    }
   ],
   "source": [
    "## Needs a bit yet\n",
    "import matplotlib.pyplot as plt\n",
    "\n",
    "distances = np.sort(distances, axis=0)\n",
    "\n",
    "fig, ax = plt.subplots()\n",
    "ax.plot(distances[:,10])\n",
    "ax.set_title('exp')\n",
    "# ax.set_ylim(0,20)\n",
    "# ax.set_xlim(30000,70000)\n",
    "plt.show()"
   ]
  },
  {
   "cell_type": "code",
   "execution_count": 18,
   "metadata": {},
   "outputs": [
    {
     "data": {
      "text/plain": [
       "((9486,), 85)"
      ]
     },
     "execution_count": 18,
     "metadata": {},
     "output_type": "execute_result"
    }
   ],
   "source": [
    "m = DBSCAN(eps=30, min_samples=5)\n",
    "m.fit(a_coords)\n",
    "clusters = m.labels_\n",
    "clusters.shape, np.max(clusters)"
   ]
  },
  {
   "cell_type": "code",
   "execution_count": 19,
   "metadata": {},
   "outputs": [],
   "source": [
    "a_puntos = [x.tolist(),y.tolist(),clusters.tolist()]\n",
    "l_puntos = [item for item in zip(x,y,clusters)]\n",
    "# l_puntos"
   ]
  },
  {
   "cell_type": "code",
   "execution_count": 22,
   "metadata": {},
   "outputs": [],
   "source": [
    "img1_dummy = np.zeros((img1.shape))\n",
    "img1_dummy\n",
    "for row in l_puntos:\n",
    "    img1_dummy[row[0],row[1]] = row[2]"
   ]
  },
  {
   "cell_type": "code",
   "execution_count": 26,
   "metadata": {},
   "outputs": [
    {
     "data": {
      "text/plain": [
       "<Labels layer 'img1_dummy [1]' at 0x1e29520e508>"
      ]
     },
     "execution_count": 26,
     "metadata": {},
     "output_type": "execute_result"
    }
   ],
   "source": [
    "viewer.add_image(img1_dummy)\n",
    "viewer.add_labels(img1_dummy)"
   ]
  },
  {
   "cell_type": "code",
   "execution_count": 28,
   "metadata": {},
   "outputs": [],
   "source": [
    "img1_dummy = img1_dummy.astype(np.int)"
   ]
  },
  {
   "cell_type": "code",
   "execution_count": 29,
   "metadata": {
    "scrolled": true
   },
   "outputs": [
    {
     "data": {
      "text/html": [
       "<div>\n",
       "<style scoped>\n",
       "    .dataframe tbody tr th:only-of-type {\n",
       "        vertical-align: middle;\n",
       "    }\n",
       "\n",
       "    .dataframe tbody tr th {\n",
       "        vertical-align: top;\n",
       "    }\n",
       "\n",
       "    .dataframe thead th {\n",
       "        text-align: right;\n",
       "    }\n",
       "</style>\n",
       "<table border=\"1\" class=\"dataframe\">\n",
       "  <thead>\n",
       "    <tr style=\"text-align: right;\">\n",
       "      <th></th>\n",
       "      <th>label</th>\n",
       "      <th>centroid-0</th>\n",
       "      <th>centroid-1</th>\n",
       "      <th>area</th>\n",
       "      <th>bbox_area</th>\n",
       "      <th>equivalent_diameter</th>\n",
       "      <th>major_axis_length</th>\n",
       "      <th>minor_axis_length</th>\n",
       "    </tr>\n",
       "  </thead>\n",
       "  <tbody>\n",
       "    <tr>\n",
       "      <th>0</th>\n",
       "      <td>1</td>\n",
       "      <td>118</td>\n",
       "      <td>1734</td>\n",
       "      <td>21</td>\n",
       "      <td>1120</td>\n",
       "      <td>5.170883</td>\n",
       "      <td>45.236372</td>\n",
       "      <td>5.907981</td>\n",
       "    </tr>\n",
       "    <tr>\n",
       "      <th>1</th>\n",
       "      <td>2</td>\n",
       "      <td>141</td>\n",
       "      <td>720</td>\n",
       "      <td>14</td>\n",
       "      <td>1053</td>\n",
       "      <td>4.222008</td>\n",
       "      <td>52.890682</td>\n",
       "      <td>13.197257</td>\n",
       "    </tr>\n",
       "    <tr>\n",
       "      <th>2</th>\n",
       "      <td>3</td>\n",
       "      <td>141</td>\n",
       "      <td>498</td>\n",
       "      <td>113</td>\n",
       "      <td>1410</td>\n",
       "      <td>11.994835</td>\n",
       "      <td>61.623319</td>\n",
       "      <td>16.032263</td>\n",
       "    </tr>\n",
       "    <tr>\n",
       "      <th>3</th>\n",
       "      <td>4</td>\n",
       "      <td>143</td>\n",
       "      <td>1273</td>\n",
       "      <td>42</td>\n",
       "      <td>1110</td>\n",
       "      <td>7.312733</td>\n",
       "      <td>43.537135</td>\n",
       "      <td>21.663912</td>\n",
       "    </tr>\n",
       "    <tr>\n",
       "      <th>4</th>\n",
       "      <td>5</td>\n",
       "      <td>136</td>\n",
       "      <td>1381</td>\n",
       "      <td>54</td>\n",
       "      <td>800</td>\n",
       "      <td>8.291860</td>\n",
       "      <td>42.836533</td>\n",
       "      <td>16.450113</td>\n",
       "    </tr>\n",
       "    <tr>\n",
       "      <th>...</th>\n",
       "      <td>...</td>\n",
       "      <td>...</td>\n",
       "      <td>...</td>\n",
       "      <td>...</td>\n",
       "      <td>...</td>\n",
       "      <td>...</td>\n",
       "      <td>...</td>\n",
       "      <td>...</td>\n",
       "    </tr>\n",
       "    <tr>\n",
       "      <th>80</th>\n",
       "      <td>81</td>\n",
       "      <td>1729</td>\n",
       "      <td>1721</td>\n",
       "      <td>37</td>\n",
       "      <td>1088</td>\n",
       "      <td>6.863663</td>\n",
       "      <td>49.276865</td>\n",
       "      <td>9.302534</td>\n",
       "    </tr>\n",
       "    <tr>\n",
       "      <th>81</th>\n",
       "      <td>82</td>\n",
       "      <td>1735</td>\n",
       "      <td>50</td>\n",
       "      <td>68</td>\n",
       "      <td>1512</td>\n",
       "      <td>9.304853</td>\n",
       "      <td>52.650607</td>\n",
       "      <td>13.572060</td>\n",
       "    </tr>\n",
       "    <tr>\n",
       "      <th>82</th>\n",
       "      <td>83</td>\n",
       "      <td>1736</td>\n",
       "      <td>1378</td>\n",
       "      <td>5</td>\n",
       "      <td>330</td>\n",
       "      <td>2.523133</td>\n",
       "      <td>36.169141</td>\n",
       "      <td>6.192998</td>\n",
       "    </tr>\n",
       "    <tr>\n",
       "      <th>83</th>\n",
       "      <td>84</td>\n",
       "      <td>1744</td>\n",
       "      <td>1040</td>\n",
       "      <td>34</td>\n",
       "      <td>525</td>\n",
       "      <td>6.579525</td>\n",
       "      <td>41.444732</td>\n",
       "      <td>12.214149</td>\n",
       "    </tr>\n",
       "    <tr>\n",
       "      <th>84</th>\n",
       "      <td>85</td>\n",
       "      <td>1746</td>\n",
       "      <td>136</td>\n",
       "      <td>84</td>\n",
       "      <td>399</td>\n",
       "      <td>10.341766</td>\n",
       "      <td>26.685183</td>\n",
       "      <td>10.906253</td>\n",
       "    </tr>\n",
       "  </tbody>\n",
       "</table>\n",
       "<p>85 rows × 8 columns</p>\n",
       "</div>"
      ],
      "text/plain": [
       "    label  centroid-0  centroid-1  area  bbox_area  equivalent_diameter  \\\n",
       "0       1         118        1734    21       1120             5.170883   \n",
       "1       2         141         720    14       1053             4.222008   \n",
       "2       3         141         498   113       1410            11.994835   \n",
       "3       4         143        1273    42       1110             7.312733   \n",
       "4       5         136        1381    54        800             8.291860   \n",
       "..    ...         ...         ...   ...        ...                  ...   \n",
       "80     81        1729        1721    37       1088             6.863663   \n",
       "81     82        1735          50    68       1512             9.304853   \n",
       "82     83        1736        1378     5        330             2.523133   \n",
       "83     84        1744        1040    34        525             6.579525   \n",
       "84     85        1746         136    84        399            10.341766   \n",
       "\n",
       "    major_axis_length  minor_axis_length  \n",
       "0           45.236372           5.907981  \n",
       "1           52.890682          13.197257  \n",
       "2           61.623319          16.032263  \n",
       "3           43.537135          21.663912  \n",
       "4           42.836533          16.450113  \n",
       "..                ...                ...  \n",
       "80          49.276865           9.302534  \n",
       "81          52.650607          13.572060  \n",
       "82          36.169141           6.192998  \n",
       "83          41.444732          12.214149  \n",
       "84          26.685183          10.906253  \n",
       "\n",
       "[85 rows x 8 columns]"
      ]
     },
     "execution_count": 29,
     "metadata": {},
     "output_type": "execute_result"
    }
   ],
   "source": [
    "props_table = skimage.measure.regionprops_table(img1_dummy, properties=('label',\n",
    "                                                                     'centroid',\n",
    "                                                                     'area',\n",
    "                                                                     'bbox_area',\n",
    "                                                                     'equivalent_diameter',\n",
    "                                                                     'major_axis_length',\n",
    "                                                                     'minor_axis_length'))\n",
    "props_table\n",
    "\n",
    "df_props = pd.DataFrame(props_table)\n",
    "df_props"
   ]
  },
  {
   "cell_type": "code",
   "execution_count": 67,
   "metadata": {},
   "outputs": [],
   "source": [
    "df_props.to_csv(folder_to_save / 'clustering_grietas.csv',index=False)"
   ]
  },
  {
   "cell_type": "code",
   "execution_count": 32,
   "metadata": {},
   "outputs": [
    {
     "data": {
      "text/plain": [
       "<Points layer 'Points' at 0x1e294ee3d88>"
      ]
     },
     "execution_count": 32,
     "metadata": {},
     "output_type": "execute_result"
    }
   ],
   "source": [
    "viewer.add_points(df_props[['centroid-0','centroid-1']], size=15)"
   ]
  },
  {
   "cell_type": "code",
   "execution_count": 35,
   "metadata": {},
   "outputs": [
    {
     "data": {
      "image/png": "[encoded data removed]",
      "text/plain": [
       "<napari.utils.notebook_display.NotebookScreenshot at 0x1e294f16048>"
      ]
     },
     "execution_count": 35,
     "metadata": {},
     "output_type": "execute_result"
    }
   ],
   "source": [
    "nbscreenshot(viewer)"
   ]
  }
 ],
 "metadata": {
  "kernelspec": {
   "display_name": "Python 3",
   "language": "python",
   "name": "python3"
  },
  "language_info": {
   "codemirror_mode": {
    "name": "ipython",
    "version": 3
   },
   "file_extension": ".py",
   "mimetype": "text/x-python",
   "name": "python",
   "nbconvert_exporter": "python",
   "pygments_lexer": "ipython3",
   "version": "3.7.6"
  }
 },
 "nbformat": 4,
 "nbformat_minor": 4
}
